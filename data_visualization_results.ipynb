{
 "cells": [
  {
   "cell_type": "code",
   "execution_count": null,
   "metadata": {
    "id": "97Y-iU2Gc19A"
   },
   "outputs": [],
   "source": [
    "import numpy as np\n",
    "from open3d import *  \n",
    "import torch\n",
    "import seaborn as sns\n",
    "import pandas as pd\n",
    "import time\n",
    "import os"
   ]
  },
  {
   "cell_type": "code",
   "execution_count": null,
   "metadata": {},
   "outputs": [],
   "source": [
    "from eval_det import get_iou, voc_ap"
   ]
  },
  {
   "cell_type": "code",
   "execution_count": null,
   "metadata": {},
   "outputs": [],
   "source": [
    "fig_path = 'C:\\\\Users\\\\Lorenz\\\\Documents\\\\hs-vcml\\\\book\\\\figures\\\\chapter_1'"
   ]
  },
  {
   "cell_type": "code",
   "execution_count": null,
   "metadata": {},
   "outputs": [],
   "source": [
    "s3dis_label_dict = {\n",
    "    0: 'ceiling',\n",
    "    1: 'floor',\n",
    "    2: 'wall',\n",
    "    3: 'beam',\n",
    "    4: 'column',\n",
    "    5: 'window',\n",
    "    6: 'door',\n",
    "    7: 'chair',\n",
    "    8: 'table',\n",
    "    9: 'bookcase',\n",
    "    10: 'sofa',\n",
    "    11: 'board',\n",
    "    12: 'clutter',\n",
    "}\n",
    "\n",
    "CLASSES = ('floor', 'building', 'low vegetation', 'med. vegetation', 'high vegetation', 'vehicle',\n",
    "               'truck', 'aircraft', 'militaryVehicle', 'bike', 'motorcycle', 'light pole',\n",
    "               'street sign', 'clutter', 'fence')\n",
    "stpls3d_label_dict = {i: name for i, name in enumerate(CLASSES)}"
   ]
  },
  {
   "cell_type": "code",
   "execution_count": null,
   "metadata": {
    "id": "JQu6s9d7fKfh"
   },
   "outputs": [],
   "source": [
    "def calc_color_vec(labels):\n",
    "    index_label_dict = {int(value):int(index[0]) for index, value in np.ndenumerate(np.unique(labels))}\n",
    "    color_codes = list(sns.color_palette(\"husl\", len(np.unique(labels))))\n",
    "    colors = [color_codes[index_label_dict[int(label)]] for label in np.nditer(labels)]\n",
    "    return colors"
   ]
  },
  {
   "cell_type": "code",
   "execution_count": null,
   "metadata": {},
   "outputs": [],
   "source": [
    "def rgb_to_hex(rgb):\n",
    "    rgb = tuple(int(v*255) for v in rgb)\n",
    "    return '#%02x%02x%02x' % rgb\n",
    "\n",
    "def create_colors_from_label_dict(label_vec, label_dict):\n",
    "    labels = list(label_dict.keys())\n",
    "    color_codes = list(sns.color_palette(\"Spectral\", len(np.unique(labels))))\n",
    "    hex_list = [rgb_to_hex(c) for c in color_codes]\n",
    "    name_color_dict = {label_dict[label]: color for label, color in zip(labels, hex_list)}\n",
    "\n",
    "    df = pd.DataFrame(hex_list).T\n",
    "\n",
    "    def color_positive_green(col):\n",
    "        return [f'background-color: {name_color_dict[col.name]}']\n",
    "\n",
    "    df.iloc[0,0:len(hex_list)] = \"\"\n",
    "    df.columns = list(label_dict.values()) \n",
    "    display(df.style.apply(color_positive_green))\n",
    "    return np.array([color_codes[label] for label in np.nditer(label_vec)])"
   ]
  },
  {
   "cell_type": "code",
   "execution_count": null,
   "metadata": {},
   "outputs": [],
   "source": [
    "torr_view_json = {\n",
    "\t\"class_name\" : \"ViewTrajectory\",\n",
    "\t\"interval\" : 29,\n",
    "\t\"is_loop\" : False,\n",
    "\t\"trajectory\" : \n",
    "\t[\n",
    "\t\t{\n",
    "\t\t\t\"boundingbox_max\" : [ 1.8517245054244995, 501.92291259765625, 157.94999694824219 ],\n",
    "\t\t\t\"boundingbox_min\" : [ -138.82221984863281, 361.89385986328125, 131.83200073242188 ],\n",
    "\t\t\t\"field_of_view\" : 60.0,\n",
    "\t\t\t\"front\" : [ 0.89995929372347894, -0.41732420993349789, 0.12614980556512517 ],\n",
    "\t\t\t\"lookat\" : [ -68.485247671604156, 431.90838623046875, 144.89099884033203 ],\n",
    "\t\t\t\"up\" : [ -0.10413216502600244, 0.075217200951982532, 0.9917151127657311 ],\n",
    "\t\t\t\"zoom\" : 0.2999999999999996\n",
    "\t\t}\n",
    "\t],\n",
    "\t\"version_major\" : 1,\n",
    "\t\"version_minor\" : 0\n",
    "}"
   ]
  },
  {
   "cell_type": "code",
   "execution_count": null,
   "metadata": {},
   "outputs": [],
   "source": [
    "view_json = {\n",
    "\t\"class_name\" : \"ViewTrajectory\",\n",
    "\t\"interval\" : 29,\n",
    "\t\"is_loop\" : False,\n",
    "\t\"trajectory\" : \n",
    "\t[\n",
    "\t\t{\n",
    "\t\t\t\"boundingbox_max\" : [ 29.079366683959961, 34.424301147460938, 12.430385589599609 ],\n",
    "\t\t\t\"boundingbox_min\" : [ -37.939289093017578, -32.362068176269531, -4.4400639533996582 ],\n",
    "\t\t\t\"field_of_view\" : 60.0,\n",
    "\t\t\t\"front\" : [ -0.94616145287019626, 0.18772444699202229, 0.26370065814119409 ],\n",
    "\t\t\t\"lookat\" : [ -4.4299612045288086, 1.0311164855957031, 3.9951608180999756 ],\n",
    "\t\t\t\"up\" : [ 0.26480866917737744, -0.019616132576752879, 0.96410143453437391 ],\n",
    "\t\t\t\"zoom\" : 0.5199999999999998\n",
    "\t\t}\n",
    "\t],\n",
    "\t\"version_major\" : 1,\n",
    "\t\"version_minor\" : 0\n",
    "}\n",
    "\n",
    "\n",
    "def create_image(pcd, output_path, view_json):\n",
    "    if os.path.isfile(output_path):\n",
    "        print(f'Warning, file \"{output_path}\" already exists!')\n",
    "        return\n",
    "    vis = open3d.visualization.Visualizer()\n",
    "    vis.create_window()\n",
    "    vis.add_geometry(pcd)\n",
    "\n",
    "    view_control = vis.get_view_control()\n",
    "    view_control.set_front(view_json['trajectory'][0]['front'])\n",
    "    view_control.set_zoom(view_json['trajectory'][0]['zoom'])\n",
    "    view_control.set_lookat(view_json['trajectory'][0]['lookat'])\n",
    "    view_control.set_up(view_json['trajectory'][0]['up'])\n",
    "\n",
    "    vis.update_geometry(pcd)\n",
    "    vis.poll_events()\n",
    "    vis.update_renderer()\n",
    "\n",
    "    time.sleep(1)\n",
    "    vis.capture_screen_image(output_path)\n",
    "    vis.remove_geometry(pcd)\n",
    "    vis.poll_events()\n",
    "    vis.update_renderer()\n",
    "    vis.destroy_window()\n",
    "    del view_control\n",
    "    del vis"
   ]
  },
  {
   "cell_type": "code",
   "execution_count": null,
   "metadata": {
    "id": "Fhvt4ffvemKp"
   },
   "outputs": [],
   "source": [
    "# torronto dataset\n",
    "path = 'data/results_new'\n",
    "file_name = '25_points_GTv3_098.npy'"
   ]
  },
  {
   "cell_type": "code",
   "execution_count": null,
   "metadata": {},
   "outputs": [],
   "source": [
    "# original dataset\n",
    "path = 'data/results_manipulated/sample_farthest-0.5/results_stpls3d'\n",
    "file_name = '5_points_GTv3_05.npy'"
   ]
  },
  {
   "cell_type": "markdown",
   "metadata": {
    "id": "ndnbsaZhfeXY"
   },
   "source": [
    "## Scence with color"
   ]
  },
  {
   "cell_type": "code",
   "execution_count": null,
   "metadata": {},
   "outputs": [],
   "source": [
    "cords = np.load(f'{path}/coords/{file_name}')\n",
    "colors = np.load(f'{path}/colors/{file_name}')\n",
    "colors = (colors + 1) / 2"
   ]
  },
  {
   "cell_type": "code",
   "execution_count": null,
   "metadata": {
    "id": "rIV8WP6he_y-"
   },
   "outputs": [],
   "source": [
    "pcd = open3d.geometry.PointCloud()\n",
    "pcd.points = open3d.utility.Vector3dVector(cords[mask])\n",
    "pcd.colors = open3d.utility.Vector3dVector(colors[mask])"
   ]
  },
  {
   "cell_type": "code",
   "execution_count": null,
   "metadata": {
    "colab": {
     "base_uri": "https://localhost:8080/"
    },
    "id": "BKCTUvdcg9S_",
    "outputId": "8e013c75-1341-4399-d038-d35431022789"
   },
   "outputs": [],
   "source": [
    "open3d.visualization.draw_geometries([pcd])"
   ]
  },
  {
   "cell_type": "code",
   "execution_count": null,
   "metadata": {},
   "outputs": [],
   "source": [
    "create_image(pcd, f'{fig_path}\\\\toronto3d-color.png', torr_view_json)"
   ]
  },
  {
   "cell_type": "markdown",
   "metadata": {
    "id": "DtXtacD2fm4O"
   },
   "source": [
    "## Scence with label"
   ]
  },
  {
   "cell_type": "code",
   "execution_count": null,
   "metadata": {
    "colab": {
     "base_uri": "https://localhost:8080/",
     "height": 307
    },
    "id": "NvX5yL0MfmO8",
    "outputId": "9a2e7a55-ec5f-45bf-abd2-f8f8cd1ecb89"
   },
   "outputs": [],
   "source": [
    "cords = np.load(f'{path}/coords/{file_name}')\n",
    "labels = np.load(f'{path}/semantic_label/{file_name}')"
   ]
  },
  {
   "cell_type": "code",
   "execution_count": null,
   "metadata": {
    "id": "HSyHWooPf1AH"
   },
   "outputs": [],
   "source": [
    "colors = create_colors_from_label_dict(labels, stpls3d_label_dict)\n",
    "pcd = open3d.geometry.PointCloud()\n",
    "pcd.points = open3d.utility.Vector3dVector(cords[mask])\n",
    "pcd.colors = open3d.utility.Vector3dVector(colors[mask])"
   ]
  },
  {
   "cell_type": "code",
   "execution_count": null,
   "metadata": {
    "id": "4RD38yosg_Uh"
   },
   "outputs": [],
   "source": [
    "open3d.visualization.draw_geometries([pcd])"
   ]
  },
  {
   "cell_type": "code",
   "execution_count": null,
   "metadata": {},
   "outputs": [],
   "source": [
    "#create_image(pcd, f'{fig_path}\\\\manipulated-data-noisy-labels.png', view_json)"
   ]
  },
  {
   "cell_type": "markdown",
   "metadata": {
    "id": "8h3SPyotgKC5"
   },
   "source": [
    "## Scence with prediction"
   ]
  },
  {
   "cell_type": "code",
   "execution_count": null,
   "metadata": {
    "id": "segTrr9TfGC8"
   },
   "outputs": [],
   "source": [
    "cords = np.load(f'{path}/coords/{file_name}')\n",
    "predictions = np.load(f'{path}/semantic_pred/{file_name}')"
   ]
  },
  {
   "cell_type": "code",
   "execution_count": null,
   "metadata": {
    "id": "z-bvEcj7ghhs"
   },
   "outputs": [],
   "source": [
    "colors = create_colors_from_label_dict(predictions, stpls3d_label_dict)\n",
    "pcd = open3d.geometry.PointCloud()\n",
    "pcd.points = open3d.utility.Vector3dVector(cords[mask])\n",
    "pcd.colors = open3d.utility.Vector3dVector(colors[mask])"
   ]
  },
  {
   "cell_type": "code",
   "execution_count": null,
   "metadata": {
    "id": "HN8cQjVhhANZ"
   },
   "outputs": [],
   "source": [
    "open3d.visualization.draw_geometries([pcd])"
   ]
  },
  {
   "cell_type": "code",
   "execution_count": null,
   "metadata": {},
   "outputs": [],
   "source": [
    "#create_image(pcd, f'{fig_path}\\\\toronto3d-prediction-labels.png', torr_view_json)"
   ]
  },
  {
   "cell_type": "markdown",
   "metadata": {},
   "source": [
    "## Accuracy Farbencodiert"
   ]
  },
  {
   "cell_type": "code",
   "execution_count": null,
   "metadata": {},
   "outputs": [],
   "source": [
    "cords = np.load(f'{path}/coords/{file_name}')\n",
    "colors = np.load(f'{path}/colors/{file_name}')\n",
    "colors = (colors + 1) / 2"
   ]
  },
  {
   "cell_type": "code",
   "execution_count": null,
   "metadata": {},
   "outputs": [],
   "source": [
    "acc = labels == predictions\n",
    "acc_colors = np.array([np.logical_not(acc)*255, acc*255, acc*0]).T\n",
    "incorrect = np.logical_not(acc)\n",
    "colors[incorrect] = acc_colors[incorrect]\n",
    "pcd = open3d.geometry.PointCloud()\n",
    "pcd.points = open3d.utility.Vector3dVector(cords[mask])\n",
    "pcd.colors = open3d.utility.Vector3dVector(colors[mask])"
   ]
  },
  {
   "cell_type": "code",
   "execution_count": null,
   "metadata": {},
   "outputs": [],
   "source": [
    "open3d.visualization.draw_geometries([pcd])"
   ]
  },
  {
   "cell_type": "code",
   "execution_count": null,
   "metadata": {},
   "outputs": [],
   "source": [
    "create_image(pcd, f'{fig_path}\\\\manipulated-data-noisy-errors-colorcoded.png', view_json)"
   ]
  }
 ],
 "metadata": {
  "colab": {
   "provenance": []
  },
  "kernelspec": {
   "display_name": "Python 3 (ipykernel)",
   "language": "python",
   "name": "python3"
  },
  "language_info": {
   "codemirror_mode": {
    "name": "ipython",
    "version": 3
   },
   "file_extension": ".py",
   "mimetype": "text/x-python",
   "name": "python",
   "nbconvert_exporter": "python",
   "pygments_lexer": "ipython3",
   "version": "3.9.13"
  }
 },
 "nbformat": 4,
 "nbformat_minor": 1
}
