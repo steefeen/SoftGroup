{
 "cells": [
  {
   "cell_type": "code",
   "execution_count": null,
   "metadata": {
    "id": "97Y-iU2Gc19A"
   },
   "outputs": [],
   "source": [
    "import numpy as np\n",
    "from open3d import *\n",
    "import torch\n",
    "import seaborn as sns\n",
    "import json\n",
    "import time"
   ]
  },
  {
   "cell_type": "code",
   "execution_count": null,
   "metadata": {
    "id": "Fhvt4ffvemKp"
   },
   "outputs": [],
   "source": [
    "file_name = '5_points_GTv3_05_inst_nostuff.pth'"
   ]
  },
  {
   "cell_type": "code",
   "execution_count": null,
   "metadata": {},
   "outputs": [],
   "source": [
    "view_json = {\n",
    "\t\"class_name\" : \"ViewTrajectory\",\n",
    "\t\"interval\" : 29,\n",
    "\t\"is_loop\" : False,\n",
    "\t\"trajectory\" : \n",
    "\t[\n",
    "\t\t{\n",
    "\t\t\t\"boundingbox_max\" : [ 23.999622344970703, 29.414335250854492, 12.430385589599609 ],\n",
    "\t\t\t\"boundingbox_min\" : [ -25.999080657958984, -20.583383560180664, -4.4400639533996582 ],\n",
    "\t\t\t\"field_of_view\" : 60.0,\n",
    "\t\t\t\"front\" : [ -0.31103482071161342, 0.90056388039681612, 0.30371374290526221 ],\n",
    "\t\t\t\"lookat\" : [ -1.1835630984909713, 2.2750627512522241, 2.2576575227022864 ],\n",
    "\t\t\t\"up\" : [ -0.030620578232786085, -0.3288943841291509, 0.94387015223334414 ],\n",
    "\t\t\t\"zoom\" : 0.59999999999999987\n",
    "\t\t}\n",
    "\t],\n",
    "\t\"version_major\" : 1,\n",
    "\t\"version_minor\" : 0\n",
    "}"
   ]
  },
  {
   "cell_type": "code",
   "execution_count": null,
   "metadata": {
    "id": "JQu6s9d7fKfh"
   },
   "outputs": [],
   "source": [
    "def calc_color_vec(labels):\n",
    "    index_label_dict = {int(value):int(index[0]) for index, value in np.ndenumerate(np.unique(labels))}\n",
    "    color_codes = list(sns.color_palette(\"husl\", len(np.unique(labels))))\n",
    "    colors = [color_codes[index_label_dict[int(label)]] for label in np.nditer(labels)]\n",
    "    return colors"
   ]
  },
  {
   "cell_type": "code",
   "execution_count": null,
   "metadata": {},
   "outputs": [],
   "source": [
    "def create_image(pcd, output_path, view_json):\n",
    "    vis = open3d.visualization.Visualizer()\n",
    "    vis.create_window()\n",
    "    vis.add_geometry(pcd)\n",
    "\n",
    "    view_control = vis.get_view_control()\n",
    "    view_control.set_front(view_json['trajectory'][0]['front'])\n",
    "    view_control.set_zoom(view_json['trajectory'][0]['zoom'])\n",
    "    view_control.set_lookat(view_json['trajectory'][0]['lookat'])\n",
    "    view_control.set_up(view_json['trajectory'][0]['up'])\n",
    "\n",
    "    vis.update_geometry(pcd)\n",
    "    vis.poll_events()\n",
    "    vis.update_renderer()\n",
    "\n",
    "    time.sleep(1)\n",
    "    vis.capture_screen_image(output_path)\n",
    "    vis.remove_geometry(pcd)\n",
    "    vis.poll_events()\n",
    "    vis.update_renderer()\n",
    "    vis.destroy_window()\n",
    "    del view_control\n",
    "    del vis"
   ]
  },
  {
   "cell_type": "code",
   "execution_count": null,
   "metadata": {},
   "outputs": [],
   "source": [
    "def load_pcd(path):\n",
    "    data = torch.load(path)\n",
    "    cords = data[0]\n",
    "    colors = data[1]\n",
    "    colors = (colors + 1) / 2\n",
    "    pcd = open3d.geometry.PointCloud()\n",
    "    pcd.points = open3d.utility.Vector3dVector(cords)\n",
    "    pcd.colors = open3d.utility.Vector3dVector(colors)\n",
    "    return pcd"
   ]
  },
  {
   "cell_type": "code",
   "execution_count": null,
   "metadata": {},
   "outputs": [],
   "source": [
    "def make_path(path):\n",
    "    return f'{path}/val/{file_name}'"
   ]
  },
  {
   "cell_type": "code",
   "execution_count": null,
   "metadata": {},
   "outputs": [],
   "source": [
    "def make_image_from_path(p):\n",
    "    file_path = make_path(p)\n",
    "    print(p)\n",
    "    pcd = load_pcd(file_path)\n",
    "    output_path = f'images/{p.split(\"/\")[-1]}.jpg'\n",
    "    create_image(pcd, output_path, view_json)"
   ]
  },
  {
   "cell_type": "code",
   "execution_count": null,
   "metadata": {},
   "outputs": [],
   "source": [
    "paths = ['data',\n",
    "         'data\\manipulated_data/no_color_',\n",
    "         'data\\manipulated_data/noisy_0.2',\n",
    "         'data\\manipulated_data/noisy_0.5',\n",
    "         'data\\manipulated_data/noisy_0.8',\n",
    "         'data\\manipulated_data/noisy_1.0',\n",
    "         'data\\manipulated_data/sample_farthest_0.6',\n",
    "         'data\\manipulated_data/sample_random_0.85',\n",
    "         'data\\manipulated_data/sample_random_0.6',\n",
    "         'data\\manipulated_data/sample_random_0.5',\n",
    "         'data\\manipulated_data/sample_random_0.3'\n",
    "]\n",
    "for path in paths:\n",
    "    make_image_from_path(path)"
   ]
  },
  {
   "cell_type": "markdown",
   "metadata": {
    "id": "ndnbsaZhfeXY"
   },
   "source": [
    "## Scence with color"
   ]
  },
  {
   "cell_type": "code",
   "execution_count": null,
   "metadata": {},
   "outputs": [],
   "source": [
    "data = torch.load('data/recorded_data/val/conferenceRoom_2.pth')\n",
    "cords = data[0]\n",
    "colors = data[1]\n",
    "colors = (colors + 1) / 2"
   ]
  },
  {
   "cell_type": "code",
   "execution_count": null,
   "metadata": {
    "id": "rIV8WP6he_y-"
   },
   "outputs": [],
   "source": [
    "pcd = open3d.geometry.PointCloud()\n",
    "pcd.points = open3d.utility.Vector3dVector(cords[mask])\n",
    "pcd.colors = open3d.utility.Vector3dVector(colors[mask])\n",
    "open3d.visualization.draw_geometries([pcd])"
   ]
  },
  {
   "cell_type": "code",
   "execution_count": null,
   "metadata": {},
   "outputs": [],
   "source": [
    "vis = open3d.visualization.Visualizer()\n",
    "vis.create_window()\n",
    "vis.add_geometry(pcd)\n",
    "\n",
    "view_control = vis.get_view_control()\n",
    "view_control.set_front(view_json['trajectory'][0]['front'])\n",
    "view_control.set_zoom(view_json['trajectory'][0]['zoom'])\n",
    "view_control.set_lookat(view_json['trajectory'][0]['lookat'])\n",
    "view_control.set_up(view_json['trajectory'][0]['up'])\n",
    "view_control.scale(0.8)\n",
    "\n",
    "vis.update_geometry(pcd)\n",
    "vis.poll_events()\n",
    "vis.update_renderer()\n",
    "\n",
    "time.sleep(1)\n",
    "vis.capture_screen_image('testimage.png')\n",
    "vis.remove_geometry(pcd)\n",
    "vis.poll_events()\n",
    "vis.update_renderer()\n",
    "vis.destroy_window()\n",
    "del view_control\n",
    "del vis"
   ]
  },
  {
   "cell_type": "markdown",
   "metadata": {
    "id": "DtXtacD2fm4O"
   },
   "source": [
    "## Scence with label"
   ]
  },
  {
   "cell_type": "code",
   "execution_count": null,
   "metadata": {},
   "outputs": [],
   "source": [
    "labels = data[3]"
   ]
  },
  {
   "cell_type": "code",
   "execution_count": null,
   "metadata": {
    "id": "HSyHWooPf1AH"
   },
   "outputs": [],
   "source": [
    "colors = calc_color_vec(labels)\n",
    "pcd = open3d.geometry.PointCloud()\n",
    "pcd.points = open3d.utility.Vector3dVector(cords)\n",
    "pcd.colors = open3d.utility.Vector3dVector(colors)\n",
    "#open3d.visualization.draw_geometries([pcd])"
   ]
  }
 ],
 "metadata": {
  "colab": {
   "provenance": []
  },
  "kernelspec": {
   "display_name": "Python 3 (ipykernel)",
   "language": "python",
   "name": "python3"
  },
  "language_info": {
   "codemirror_mode": {
    "name": "ipython",
    "version": 3
   },
   "file_extension": ".py",
   "mimetype": "text/x-python",
   "name": "python",
   "nbconvert_exporter": "python",
   "pygments_lexer": "ipython3",
   "version": "3.9.13"
  }
 },
 "nbformat": 4,
 "nbformat_minor": 1
}
