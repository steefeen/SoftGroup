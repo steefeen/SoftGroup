{
 "cells": [
  {
   "cell_type": "code",
   "execution_count": null,
   "id": "85b34fdb",
   "metadata": {},
   "outputs": [],
   "source": [
    "import numpy as np\n",
    "import seaborn as sns\n",
    "import pandas as pd\n",
    "import os\n",
    "from sklearn.metrics import confusion_matrix\n",
    "import matplotlib.pyplot as plt\n",
    "\n",
    "plt.style.use('dark_background')\n",
    "np.set_printoptions(precision=3)"
   ]
  },
  {
   "cell_type": "code",
   "execution_count": null,
   "id": "93c020ba",
   "metadata": {},
   "outputs": [],
   "source": [
    "log_path = 'data/log/'"
   ]
  },
  {
   "cell_type": "code",
   "execution_count": null,
   "id": "84460f05",
   "metadata": {},
   "outputs": [],
   "source": [
    "def get_results(folder_name: str, extractor):\n",
    "    folder_path = f'{log_path}/{folder_name}'\n",
    "    files = os.listdir(folder_path)\n",
    "    res = []\n",
    "    for file in files:\n",
    "        with open(f'{folder_path}/{file}') as f:\n",
    "            lines = f.readlines()\n",
    "        res.append(extractor(lines))\n",
    "    return res\n",
    "\n",
    "def extractor(lines: [str], leading_str: str, target_i: int = -1):\n",
    "    change_value = lines[0].split('-')[-1].strip()\n",
    "    tar_line = next(l for l in lines if l.startswith(leading_str))\n",
    "    tar = [c for c in tar_line.split(' ') if c][target_i]\n",
    "    return change_value, float(tar)"
   ]
  },
  {
   "cell_type": "code",
   "execution_count": null,
   "id": "fd1f0ff0",
   "metadata": {},
   "outputs": [],
   "source": [
    "acc_ex = lambda l: extractor(l, 'Acc')\n",
    "miou_ex = lambda l: extractor(l, 'mIoU')\n",
    "ap50_ex = lambda l: extractor(l, 'average', -5)\n",
    "bike_ap25 = lambda l: extractor(l, 'bike', -4)\n",
    "building_ap25 = lambda l: extractor(l, 'bike', -4)"
   ]
  },
  {
   "cell_type": "code",
   "execution_count": null,
   "id": "cf1fd552",
   "metadata": {},
   "outputs": [],
   "source": [
    "def sort_array(a):\n",
    "    a = a.T\n",
    "    return a[a[:, 0].argsort()].T"
   ]
  },
  {
   "cell_type": "code",
   "execution_count": null,
   "id": "0f299489",
   "metadata": {},
   "outputs": [],
   "source": [
    "def plot(target, title, x_title, invert_x=False):\n",
    "    r_ap50 = np.array(get_results(target, ap50_ex), dtype=float).T\n",
    "    r_ap50 = sort_array(r_ap50)\n",
    "    r_miou = np.array(get_results(target, miou_ex), dtype=float).T\n",
    "    r_miou[1] = r_miou[1]/100\n",
    "    r_miou = sort_array(r_miou)\n",
    "    r_acc = np.array(get_results(target, acc_ex), dtype=float).T\n",
    "    r_acc[1] = r_acc[1]/100\n",
    "    r_acc = sort_array(r_acc)\n",
    "\n",
    "    plt.plot(r_ap50[0], r_ap50[1], \"-b\", label=\"AP50\")\n",
    "    plt.plot(r_miou[0], r_miou[1], \"-r\", label=\"mIoU\")\n",
    "    plt.plot(r_acc[0], r_acc[1], \"-g\", label=\"Accuracy\")\n",
    "    plt.legend(loc=\"upper right\")\n",
    "    plt.ylim(0, 1.0)\n",
    "    if invert_x:\n",
    "        plt.xlim(1, 0)\n",
    "    else:\n",
    "        plt.xlim(0, 1)\n",
    "    plt.title(title)\n",
    "    plt.xlabel(x_title)\n",
    "    img_name = f'images/{target}_performance_plot.png'\n",
    "    plt.savefig(img_name, format='png', dpi=400)\n",
    "    plt.show()"
   ]
  },
  {
   "cell_type": "code",
   "execution_count": null,
   "id": "3a166453",
   "metadata": {},
   "outputs": [],
   "source": [
    "plot('sample_random', 'Performance with decreasing random sample', 'Amount of points sampled', True)"
   ]
  },
  {
   "cell_type": "code",
   "execution_count": null,
   "id": "e43ccfef",
   "metadata": {},
   "outputs": [],
   "source": [
    "plot('sample_farthest', 'Performance with decreasing sample', 'Amount of points sampled', True)"
   ]
  },
  {
   "cell_type": "code",
   "execution_count": null,
   "id": "21a43b5a",
   "metadata": {},
   "outputs": [],
   "source": [
    "plot('noisy', 'Performance with add noise on cordinates', 'SD added to cordinates', False)"
   ]
  },
  {
   "cell_type": "code",
   "execution_count": null,
   "id": "0d305340",
   "metadata": {},
   "outputs": [],
   "source": [
    "np.array(get_results(target, acc_ex), dtype=float)"
   ]
  },
  {
   "cell_type": "code",
   "execution_count": null,
   "id": "a2336020",
   "metadata": {},
   "outputs": [],
   "source": [
    "np.array(get_results('sample_random', ap50_ex), dtype=float).T[0]"
   ]
  },
  {
   "cell_type": "code",
   "execution_count": null,
   "id": "2ad0f630",
   "metadata": {},
   "outputs": [],
   "source": [
    "get_results('sample_farthest', building_ap25)"
   ]
  },
  {
   "cell_type": "code",
   "execution_count": null,
   "id": "4fb9b385",
   "metadata": {},
   "outputs": [],
   "source": [
    "title = 'Furthest- and Random Sampling compared'\n",
    "x_title = 'Amount of points sampled'\n",
    "f_ap50 = np.array(get_results('sample_farthest', ap50_ex), dtype=float).T\n",
    "f_ap50 = sort_array(f_ap50)\n",
    "r_ap50 = np.array(get_results('sample_random', ap50_ex), dtype=float).T\n",
    "r_ap50 = sort_array(r_ap50)\n",
    "\n",
    "\n",
    "plt.plot(f_ap50[0], f_ap50[1], \"-y\", label=\"AP50 Furthest Sampling\")\n",
    "plt.plot(r_ap50[0], r_ap50[1], \"-r\", label=\"AP50 Random Sampling\")\n",
    "plt.legend(loc=\"upper right\")\n",
    "plt.ylim(0, 1.0)\n",
    "if invert_x:\n",
    "    plt.xlim(1, 0)\n",
    "else:\n",
    "    plt.xlim(0, 1)\n",
    "plt.title(title)\n",
    "plt.xlabel(x_title)\n",
    "img_name = f'images/furthest_random_performance_plot.png'\n",
    "plt.savefig(img_name, format='png', dpi=400)\n",
    "plt.show()"
   ]
  },
  {
   "cell_type": "code",
   "execution_count": null,
   "id": "81796a1b",
   "metadata": {},
   "outputs": [],
   "source": [
    "np.array(get_results('sample_random', ap50_ex))"
   ]
  },
  {
   "cell_type": "code",
   "execution_count": null,
   "id": "d621f483",
   "metadata": {},
   "outputs": [],
   "source": [
    "np.array(get_results('sample_farthest', ap50_ex))"
   ]
  },
  {
   "cell_type": "code",
   "execution_count": null,
   "id": "dc71e4d2",
   "metadata": {},
   "outputs": [],
   "source": [
    "get_results('noisy', ap50_ex)"
   ]
  },
  {
   "cell_type": "code",
   "execution_count": null,
   "id": "b2de5e20",
   "metadata": {},
   "outputs": [],
   "source": [
    "CLASSES = ('floor', 'building', 'low vegetation', 'med. vegetation', 'high vegetation', 'vehicle',\n",
    "               'truck', 'aircraft', 'militaryVehicle', 'bike', 'motorcycle', 'light pole',\n",
    "               'street sign', 'clutter', 'fence')\n",
    "target = 'no_color'\n",
    "\n",
    "\n",
    "ap50_ex = lambda l: extractor(l, 'average', -5)\n",
    "\n",
    "ap50s = []\n",
    "for c in CLASSES[1:]:\n",
    "    ex = lambda l: extractor(l, c, -5)\n",
    "    t = get_results(target, ex)\n",
    "    ap50s.append(next(p[1] for p in t if p[0] == '0'))\n",
    "ap50s = [np.nan] + ap50s"
   ]
  },
  {
   "cell_type": "code",
   "execution_count": null,
   "id": "4f32c647",
   "metadata": {},
   "outputs": [],
   "source": [
    "def ex(lines):\n",
    "    tar_line = next(l for l in lines if l.startswith('Class-wise mIoU:'))\n",
    "    return tar_line.split(':')[-1].strip().split(' ')\n",
    "mious = get_results(target, ex)[-1]\n",
    "mious = [float(i)/100 for i in mious]"
   ]
  },
  {
   "cell_type": "code",
   "execution_count": null,
   "id": "16e6b283",
   "metadata": {},
   "outputs": [],
   "source": [
    "df = pd.DataFrame({'class': ('floor', 'building', 'low veg.', 'med. veg.', 'high veg.', 'vehicle',\n",
    "               'truck', 'aircraft', 'militaryVeh.', 'bike', 'motorcycle', 'light pole',\n",
    "               'street sign', 'clutter', 'fence'),\n",
    "                   'AP50': ap50s,\n",
    "                   'mIoU': mious})\n",
    "df = df.set_index('class').transpose()\n",
    "print(df.to_markdown())"
   ]
  },
  {
   "cell_type": "code",
   "execution_count": null,
   "id": "4c0c116b",
   "metadata": {},
   "outputs": [],
   "source": [
    "df"
   ]
  },
  {
   "cell_type": "code",
   "execution_count": null,
   "id": "63ee945c",
   "metadata": {},
   "outputs": [],
   "source": []
  }
 ],
 "metadata": {
  "kernelspec": {
   "display_name": "Python 3 (ipykernel)",
   "language": "python",
   "name": "python3"
  },
  "language_info": {
   "codemirror_mode": {
    "name": "ipython",
    "version": 3
   },
   "file_extension": ".py",
   "mimetype": "text/x-python",
   "name": "python",
   "nbconvert_exporter": "python",
   "pygments_lexer": "ipython3",
   "version": "3.9.13"
  }
 },
 "nbformat": 4,
 "nbformat_minor": 5
}
