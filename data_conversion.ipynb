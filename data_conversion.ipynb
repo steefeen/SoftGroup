{
 "cells": [
  {
   "cell_type": "code",
   "execution_count": null,
   "id": "dde9fe9d",
   "metadata": {},
   "outputs": [],
   "source": [
    "import torch\n",
    "import numpy as np\n",
    "import pandas as pd\n",
    "import seaborn as sns\n",
    "import os\n",
    "from tqdm.notebook import tqdm\n",
    "from dgl.geometry import farthest_point_sampler"
   ]
  },
  {
   "cell_type": "code",
   "execution_count": null,
   "id": "f5aa4adc",
   "metadata": {},
   "outputs": [],
   "source": [
    "input_path = 'data/val'\n",
    "output_path = 'data/manipulated_data'\n",
    "path_list = [f'{input_path}/{f}' for f in os.listdir(input_path) if f.endswith('.pth')]"
   ]
  },
  {
   "cell_type": "code",
   "execution_count": null,
   "id": "9fb5d9c1",
   "metadata": {},
   "outputs": [],
   "source": [
    "def remove_color(data, _=None):\n",
    "    data[1] = np.zeros(data[1].shape)\n",
    "    return data\n",
    "\n",
    "def sample_farthest(data, p):\n",
    "    n_new = int(len(data[0])*p)\n",
    "    arr = np.array([data[0]])\n",
    "    point_idx = farthest_point_sampler(torch.from_numpy(arr), n_new)[0]\n",
    "    return [a[point_idx] for a in data]\n",
    "\n",
    "def sample_random(data, p):\n",
    "    mask = np.random.rand(len(data[0])) < p\n",
    "    return [a[mask] for a in data]\n",
    "\n",
    "def add_noise_to_cords(data, s):\n",
    "    data[0] = np.random.normal(data[0], s)\n",
    "    return data\n",
    "\n",
    "def manipulate_data(f, name: str, values:list=None):\n",
    "    values = values if values else ['']\n",
    "    for value in tqdm(values):\n",
    "        out_path = f'{output_path}/{name}_{value}/val'\n",
    "        os.makedirs(out_path, exist_ok=True)\n",
    "        f_adapted = lambda x: f(x, value)\n",
    "        \n",
    "        for file_path in tqdm(path_list, leave=False):\n",
    "            file_name = file_path.split('/')[-1]\n",
    "            data = torch.load(file_path)\n",
    "            data = tuple(f_adapted(list(data)))\n",
    "            torch.save(data, f'{out_path}/{file_name}')\n",
    "            "
   ]
  },
  {
   "cell_type": "code",
   "execution_count": null,
   "id": "b5164bea",
   "metadata": {},
   "outputs": [],
   "source": [
    "manipulate_data(remove_color, 'no_color')"
   ]
  },
  {
   "cell_type": "code",
   "execution_count": null,
   "id": "2a22ef71",
   "metadata": {},
   "outputs": [],
   "source": [
    "manipulate_data(sample_random, 'sample_random', [1.0, 0.95, 0.9, 0.85, 0.8, 0.7, 0.6, 0.5, 0.4, 0.3])"
   ]
  },
  {
   "cell_type": "code",
   "execution_count": null,
   "id": "e30e3853",
   "metadata": {},
   "outputs": [],
   "source": [
    "manipulate_data(sample_farthest, 'sample_farthest', [0.6])"
   ]
  },
  {
   "cell_type": "code",
   "execution_count": null,
   "id": "6f9de674",
   "metadata": {},
   "outputs": [],
   "source": [
    "manipulate_data(add_noise_to_cords, 'noisy', [0, 0.1, 0.2, 0.5, 0.8, 1.0])"
   ]
  }
 ],
 "metadata": {
  "kernelspec": {
   "display_name": "Python 3 (ipykernel)",
   "language": "python",
   "name": "python3"
  },
  "language_info": {
   "codemirror_mode": {
    "name": "ipython",
    "version": 3
   },
   "file_extension": ".py",
   "mimetype": "text/x-python",
   "name": "python",
   "nbconvert_exporter": "python",
   "pygments_lexer": "ipython3",
   "version": "3.9.13"
  }
 },
 "nbformat": 4,
 "nbformat_minor": 5
}
